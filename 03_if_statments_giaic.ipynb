{
  "nbformat": 4,
  "nbformat_minor": 0,
  "metadata": {
    "colab": {
      "provenance": []
    },
    "kernelspec": {
      "name": "python3",
      "display_name": "Python 3"
    },
    "language_info": {
      "name": "python"
    }
  },
  "cells": [
    {
      "cell_type": "markdown",
      "source": [
        "# 1 Print events\n"
      ],
      "metadata": {
        "id": "PZb4YhBsXDu5"
      }
    },
    {
      "cell_type": "code",
      "execution_count": null,
      "metadata": {
        "colab": {
          "base_uri": "https://localhost:8080/"
        },
        "collapsed": true,
        "id": "kOBX8ue_W7M8",
        "outputId": "a3f51361-b48d-4b9b-fe41-a0797b5ed792"
      },
      "outputs": [
        {
          "output_type": "stream",
          "name": "stdout",
          "text": [
            "0\n",
            "2\n",
            "4\n",
            "6\n",
            "8\n",
            "10\n",
            "12\n",
            "14\n",
            "16\n",
            "18\n",
            "20\n",
            "22\n",
            "24\n",
            "26\n",
            "28\n",
            "30\n",
            "32\n",
            "34\n",
            "36\n",
            "38\n"
          ]
        }
      ],
      "source": [
        "for i in range(20):\n",
        "    print(i * 2)\n"
      ]
    },
    {
      "cell_type": "markdown",
      "source": [
        "#2 International Voting Age\n"
      ],
      "metadata": {
        "id": "aEkTEuwQaEzP"
      }
    },
    {
      "cell_type": "code",
      "source": [
        "user_age = int(input(\"How old are you? \"))\n",
        "\n",
        "\n",
        "if user_age >= 16:\n",
        "  print(\"eligible to vote Peturksbouipo... \")\n",
        "else:\n",
        "  print(\"You cannot vote in Peturksbouipo where the voting age is 16.\")\n",
        "\n",
        "\n",
        "if user_age >= 25:\n",
        "  print(\"eligible to vote Stanlau... \")\n",
        "else:\n",
        "  print(\"You cannot vote in Stanlau where the voting age is 25.\")\n",
        "\n",
        "if user_age >= 48:\n",
        "  print(\"eligible to vote in Mayengua \")\n",
        "else:\n",
        "  print(\"You cannot vote in Mayengua where the voting age is 48.\" )\n",
        "\n"
      ],
      "metadata": {
        "colab": {
          "base_uri": "https://localhost:8080/"
        },
        "id": "8UiGkA6jaDGm",
        "outputId": "8e6069f7-40b2-4b36-b493-12e29df296b7"
      },
      "execution_count": null,
      "outputs": [
        {
          "output_type": "stream",
          "name": "stdout",
          "text": [
            "How old are you? 22\n",
            "eligible to vote Peturksbouipo... \n",
            "You cannot vote in Stanlau where the voting age is 25.\n",
            "You cannot vote in Mayengua where the voting age is 48.\n"
          ]
        }
      ]
    },
    {
      "cell_type": "markdown",
      "source": [
        "# 3 Leap Year\n",
        "\n"
      ],
      "metadata": {
        "id": "i0uKtV5seiXE"
      }
    },
    {
      "cell_type": "code",
      "source": [
        "leap_year = int(input(\"Please Enter a year... \"))\n",
        "if (leap_year % 4 == 0):\n",
        "    if (leap_year % 100 == 0):\n",
        "        if (leap_year % 400 == 0):\n",
        "            print(f\"{leap_year} is a leap year\")\n",
        "        else:\n",
        "            print(f\"{leap_year} is not a leap year\")\n",
        "    else:\n",
        "        print(f\"{leap_year} is a leap year\")\n",
        "else:\n",
        "    print(f\"{leap_year} is not a leap year\")"
      ],
      "metadata": {
        "colab": {
          "base_uri": "https://localhost:8080/"
        },
        "id": "8AXRIxDSaL-0",
        "outputId": "66d83b5a-83e4-4df9-a451-8899d164475c"
      },
      "execution_count": null,
      "outputs": [
        {
          "output_type": "stream",
          "name": "stdout",
          "text": [
            "Please Enter a year... 2221\n",
            "2221 is not a leap year\n"
          ]
        }
      ]
    },
    {
      "cell_type": "markdown",
      "source": [
        "# 04 Tall Enough To Ride"
      ],
      "metadata": {
        "id": "7xWWpIT0kGmF"
      }
    },
    {
      "cell_type": "code",
      "source": [
        "while True:\n",
        "    height = input(\"How tall are you? \")\n",
        "\n",
        "    if height == \"\":\n",
        "        break\n",
        "\n",
        "    height = int(height)\n",
        "\n",
        "    if height >= 50:\n",
        "        print(\"You're tall enough to ride!\")\n",
        "        break\n",
        "    else:\n",
        "        print(\"You're not tall enough to ride, but maybe next year!\")\n"
      ],
      "metadata": {
        "colab": {
          "base_uri": "https://localhost:8080/"
        },
        "collapsed": true,
        "id": "Zhv2LDPbkHvi",
        "outputId": "5570c3da-2d03-424b-d666-bdbfaa4cea02"
      },
      "execution_count": null,
      "outputs": [
        {
          "output_type": "stream",
          "name": "stdout",
          "text": [
            "How tall are you? 45\n",
            "You're not tall enough to ride, but maybe next year!\n",
            "How tall are you? 67\n",
            "You're tall enough to ride!\n"
          ]
        }
      ]
    },
    {
      "cell_type": "markdown",
      "source": [
        "# 05 Random Number"
      ],
      "metadata": {
        "id": "QenM_m5w0FQw"
      }
    },
    {
      "cell_type": "code",
      "source": [
        "import random\n",
        "for i in range(10):\n",
        "    print(random.randint(1, 100), end=\" \")\n"
      ],
      "metadata": {
        "colab": {
          "base_uri": "https://localhost:8080/"
        },
        "id": "UymMDX5Inp0p",
        "outputId": "1cb9d621-9b29-4261-9510-f7ba4834c94d"
      },
      "execution_count": null,
      "outputs": [
        {
          "output_type": "stream",
          "name": "stdout",
          "text": [
            "84 71 31 53 22 64 79 82 64 70 "
          ]
        }
      ]
    }
  ]
}