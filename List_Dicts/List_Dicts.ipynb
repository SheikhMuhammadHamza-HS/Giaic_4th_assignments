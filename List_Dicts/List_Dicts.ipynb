{
  "nbformat": 4,
  "nbformat_minor": 0,
  "metadata": {
    "colab": {
      "provenance": []
    },
    "kernelspec": {
      "name": "python3",
      "display_name": "Python 3"
    },
    "language_info": {
      "name": "python"
    }
  },
  "cells": [
    {
      "cell_type": "code",
      "execution_count": 2,
      "metadata": {
        "colab": {
          "base_uri": "https://localhost:8080/"
        },
        "id": "NI7qwbUil95q",
        "outputId": "d6f2a3bd-1683-4eaf-feb3-1818988a483f"
      },
      "outputs": [
        {
          "output_type": "stream",
          "name": "stdout",
          "text": [
            "5\n",
            "['strawbery', 'banana', 'apple', 'pineapple']\n",
            "['strawbery', 'banana', 'apple', 'pineapple', 'Mango']\n"
          ]
        }
      ],
      "source": [
        "fruits: list[str] = [\"strawbery\",\"banana\",\"apple\",\"orange\",\"pineapple\"]\n",
        "print(len(fruits))\n",
        "fruits.remove(\"orange\")\n",
        "print(fruits)\n",
        "fruits.append(\"Mango\")\n",
        "print(fruits )"
      ]
    },
    {
      "cell_type": "code",
      "source": [
        "class ListTaskBuilder:\n",
        "  def __init__(self,user_list: list[str]):\n",
        "    self.user_list = user_list\n",
        "\n",
        "\n",
        "  def access(self,user_list: list , index: int):\n",
        "    print(user_list[index])\n",
        "  def modify(self,index_value: int, new_value:str):\n",
        "     fruits[index_value] = new_value\n",
        "  def slice(self,start: int, end: int):\n",
        "     print(fruits[start:end])"
      ],
      "metadata": {
        "id": "FjREsXMqsVj-"
      },
      "execution_count": 15,
      "outputs": []
    },
    {
      "cell_type": "code",
      "source": [
        "task_list : ListTaskBuilder = ListTaskBuilder(fruits)\n",
        "task_list.access(fruits,2)\n"
      ],
      "metadata": {
        "colab": {
          "base_uri": "https://localhost:8080/"
        },
        "id": "SoH7DKFqtXTV",
        "outputId": "f8f03e88-d29b-4959-d2b8-70eb99566fbf"
      },
      "execution_count": 21,
      "outputs": [
        {
          "output_type": "stream",
          "name": "stdout",
          "text": [
            "cherry\n"
          ]
        }
      ]
    },
    {
      "cell_type": "code",
      "source": [
        "task_list.modify(2,\"Mango\")\n",
        "print(fruits)"
      ],
      "metadata": {
        "colab": {
          "base_uri": "https://localhost:8080/"
        },
        "id": "piqODo8btZzq",
        "outputId": "4b53d9dc-3aad-4219-8486-5b5a29c0bddd"
      },
      "execution_count": 24,
      "outputs": [
        {
          "output_type": "stream",
          "name": "stdout",
          "text": [
            "['kiwi', 'banana', 'Mango', 'pineapple', 'Mango']\n"
          ]
        }
      ]
    },
    {
      "cell_type": "code",
      "source": [
        "task_list.slice(0,3)"
      ],
      "metadata": {
        "colab": {
          "base_uri": "https://localhost:8080/"
        },
        "id": "G4H1PPOHtkH7",
        "outputId": "7f586d83-0c97-496e-fe4c-7958308bf9d3"
      },
      "execution_count": 27,
      "outputs": [
        {
          "output_type": "stream",
          "name": "stdout",
          "text": [
            "['kiwi', 'banana', 'Mango']\n"
          ]
        }
      ]
    }
  ]
}