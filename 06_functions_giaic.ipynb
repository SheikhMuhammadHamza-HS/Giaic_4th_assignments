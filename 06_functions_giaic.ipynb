{
  "nbformat": 4,
  "nbformat_minor": 0,
  "metadata": {
    "colab": {
      "provenance": []
    },
    "kernelspec": {
      "name": "python3",
      "display_name": "Python 3"
    },
    "language_info": {
      "name": "python"
    }
  },
  "cells": [
    {
      "cell_type": "markdown",
      "source": [
        "# Averages"
      ],
      "metadata": {
        "id": "iumLQMLyeEjb"
      }
    },
    {
      "cell_type": "code",
      "execution_count": 1,
      "metadata": {
        "colab": {
          "base_uri": "https://localhost:8080/"
        },
        "id": "HEsLwkBoLV8l",
        "outputId": "f33bc29b-7c84-4cc4-d572-bf5dbb5950c2"
      },
      "outputs": [
        {
          "output_type": "stream",
          "name": "stdout",
          "text": [
            "15.0\n"
          ]
        }
      ],
      "source": [
        "def avg(num1: int, num2:int):\n",
        "   sum =  num1 + num2\n",
        "   return sum / 2\n",
        "\n",
        "print(avg(10,20))"
      ]
    },
    {
      "cell_type": "markdown",
      "source": [
        "# chaotic_counting"
      ],
      "metadata": {
        "id": "0AS_FNcaeJ2e"
      }
    },
    {
      "cell_type": "code",
      "source": [
        "import random\n",
        "def done():\n",
        "  return random.random() < 0.4\n",
        "\n",
        "\n",
        "def chaotic_counting():\n",
        "  for number in range(1,11):\n",
        "    if done():\n",
        "      return\n",
        "    print(number)\n",
        "\n",
        "def main():\n",
        "  print(\"I am going to count...\")\n",
        "  chaotic_counting()\n",
        "  print(\"i am done\")\n",
        "\n",
        "\n",
        "main()"
      ],
      "metadata": {
        "colab": {
          "base_uri": "https://localhost:8080/"
        },
        "id": "IKgKi0GDNdRo",
        "outputId": "1022c1b5-b36f-422c-ac74-4dc9552a955c"
      },
      "execution_count": 9,
      "outputs": [
        {
          "output_type": "stream",
          "name": "stdout",
          "text": [
            "I am going to count...\n",
            "1\n",
            "2\n",
            "3\n",
            "4\n",
            "5\n",
            "i am done\n"
          ]
        }
      ]
    },
    {
      "cell_type": "markdown",
      "source": [
        "# Count_even"
      ],
      "metadata": {
        "id": "FX3bB-sSeYuz"
      }
    },
    {
      "cell_type": "code",
      "source": [
        "def Count_even():\n",
        "  number = []\n",
        "  while True:\n",
        "    user_input = input(\"enter a integer or press the enter to stop.. \")\n",
        "    if user_input == \"\":\n",
        "      break\n",
        "    number.append(int(user_input))\n",
        "  even_count = 0\n",
        "  for num in number:\n",
        "    if num % 2 == 0:\n",
        "      even_count += 1\n",
        "  print(even_count)\n",
        "\n",
        "Count_even()"
      ],
      "metadata": {
        "colab": {
          "base_uri": "https://localhost:8080/"
        },
        "id": "EllE3GUl3lmQ",
        "outputId": "6a8e80a5-6838-451e-fc74-8936e7d2aabe"
      },
      "execution_count": 10,
      "outputs": [
        {
          "output_type": "stream",
          "name": "stdout",
          "text": [
            "enter a integer or press the enter to stop.. 77\n",
            "enter a integer or press the enter to stop.. 88\n",
            "enter a integer or press the enter to stop.. 89\n",
            "enter a integer or press the enter to stop.. 534\n",
            "enter a integer or press the enter to stop.. 778\n",
            "enter a integer or press the enter to stop.. \n",
            "3\n"
          ]
        }
      ]
    },
    {
      "cell_type": "markdown",
      "source": [
        "# double_number"
      ],
      "metadata": {
        "id": "UI3mzW2Oeds_"
      }
    },
    {
      "cell_type": "code",
      "source": [
        "def double_num(num:int):\n",
        "  return num * 2\n",
        "\n",
        "\n",
        "def main1():\n",
        "  userNum = int(input(\"enter a number: \"))\n",
        "  print(double_num(userNum))\n",
        "\n",
        "main1()\n"
      ],
      "metadata": {
        "colab": {
          "base_uri": "https://localhost:8080/"
        },
        "id": "Ywzcx0oo6ZX-",
        "outputId": "dd9888e7-b8bc-42cc-e02b-38cb80a19715"
      },
      "execution_count": 11,
      "outputs": [
        {
          "output_type": "stream",
          "name": "stdout",
          "text": [
            "enter a number: 7\n",
            "14\n"
          ]
        }
      ]
    },
    {
      "cell_type": "markdown",
      "source": [
        "# Get_name"
      ],
      "metadata": {
        "id": "w7IopGgsehwn"
      }
    },
    {
      "cell_type": "code",
      "source": [
        "def get_name(name: str):\n",
        "  return f\"Hello {name}\"\n",
        "\n",
        "\n",
        "def main2():\n",
        "  user_name = input(\"enter your name: \")\n",
        "  get_name(user_name)\n",
        "  print(get_name(user_name))\n",
        "\n",
        "main2()"
      ],
      "metadata": {
        "colab": {
          "base_uri": "https://localhost:8080/"
        },
        "id": "2cvv63YUCf8w",
        "outputId": "15e0ba3f-0688-4bec-8a01-93909b1270e8"
      },
      "execution_count": 12,
      "outputs": [
        {
          "output_type": "stream",
          "name": "stdout",
          "text": [
            "enter your name: 7\n",
            "Hello 7\n"
          ]
        }
      ]
    },
    {
      "cell_type": "markdown",
      "source": [
        "# is_odd"
      ],
      "metadata": {
        "id": "KK3Aq0SYek77"
      }
    },
    {
      "cell_type": "code",
      "source": [
        "def main3():\n",
        "  for i in range(10,20):\n",
        "    if is_odd(i):\n",
        "      print(\"odd\")\n",
        "    else:\n",
        "      print(\"even\")\n",
        "\n",
        "def is_odd(value: int):\n",
        "  remainder = value % 2\n",
        "  return remainder == 1\n",
        "\n",
        "main3()"
      ],
      "metadata": {
        "colab": {
          "base_uri": "https://localhost:8080/"
        },
        "id": "VbJh9MWR5gDi",
        "outputId": "a564ca78-562d-4bf2-fff6-3bbbde7ff897"
      },
      "execution_count": 19,
      "outputs": [
        {
          "output_type": "stream",
          "name": "stdout",
          "text": [
            "even\n",
            "odd\n",
            "even\n",
            "odd\n",
            "even\n",
            "odd\n",
            "even\n",
            "odd\n",
            "even\n",
            "odd\n"
          ]
        }
      ]
    },
    {
      "cell_type": "markdown",
      "source": [
        "# print_divisor"
      ],
      "metadata": {
        "id": "IBRXBZ7yepc9"
      }
    },
    {
      "cell_type": "code",
      "source": [
        "def divisor_number(num:int):\n",
        "  i = 1\n",
        "  while i <= num:\n",
        "    if num % i == 0:\n",
        "      print(i)\n",
        "    i += 1\n",
        "\n",
        "def main4():\n",
        "  num = int(input(\"enter a number: \"))\n",
        "  print(f\"Here are the divisor of {num}\")\n",
        "  divisor_number(num)\n",
        "\n",
        "main4()"
      ],
      "metadata": {
        "colab": {
          "base_uri": "https://localhost:8080/"
        },
        "id": "JmQKMIpcDySq",
        "outputId": "9e3b9907-ced1-41c2-80d2-3061b548eb27"
      },
      "execution_count": 36,
      "outputs": [
        {
          "output_type": "stream",
          "name": "stdout",
          "text": [
            "enter a number: 333\n",
            "Here are the divisor of 333\n",
            "1\n",
            "3\n",
            "9\n",
            "37\n",
            "111\n",
            "333\n"
          ]
        }
      ]
    },
    {
      "cell_type": "markdown",
      "source": [
        "# print_multiple"
      ],
      "metadata": {
        "id": "NDYGbjIZevx9"
      }
    },
    {
      "cell_type": "code",
      "source": [
        "def print_multiple(message: str, number: int):\n",
        "  i = 1\n",
        "  while i <= number:\n",
        "    print(message)\n",
        "    i += 1\n",
        "\n",
        "\n",
        "print_multiple(\"hello\",9)"
      ],
      "metadata": {
        "colab": {
          "base_uri": "https://localhost:8080/"
        },
        "id": "FgC8_HWqKoe6",
        "outputId": "8ff6cd0c-3364-4cdc-f09e-d7980db3c759"
      },
      "execution_count": 44,
      "outputs": [
        {
          "output_type": "stream",
          "name": "stdout",
          "text": [
            "hello\n",
            "hello\n",
            "hello\n",
            "hello\n",
            "hello\n",
            "hello\n",
            "hello\n",
            "hello\n",
            "hello\n"
          ]
        }
      ]
    },
    {
      "cell_type": "markdown",
      "source": [
        "# Sentence_generator"
      ],
      "metadata": {
        "id": "gIWi2WT9eyok"
      }
    },
    {
      "cell_type": "code",
      "source": [
        "def make_sentence(word: str, part_of_speech: int):\n",
        "  if part_of_speech == 0:\n",
        "    print(f\"I am excited to add this {word} to my vast collection of them!\")\n",
        "  elif part_of_speech == 1:\n",
        "    print(f\"It's so nice outside today it makes me want to {word}\")\n",
        "  elif part_of_speech == 2:\n",
        "    print(f\"Looking out my window, the sky is big and {word}\")\n",
        "  else:\n",
        "    print(\"Part of speech must be 0, 1, or 2! Can't make a sentence.\")\n",
        "\n",
        "def main5():\n",
        "  word = input(\"Please type a noun, verb, or adjective: \")\n",
        "  print(\" it is the noun, verb or adjectives\")\n",
        "  part_of_speech = int(input(\"Please type 0 for noun, 1 for verb, or 2 for adjective: \"))\n",
        "  make_sentence(word, part_of_speech)\n",
        "\n",
        "main5()\n"
      ],
      "metadata": {
        "colab": {
          "base_uri": "https://localhost:8080/"
        },
        "id": "eQMJFhTuQJkC",
        "outputId": "baea051b-ab79-40b9-8549-4f5c1decff30"
      },
      "execution_count": 56,
      "outputs": [
        {
          "output_type": "stream",
          "name": "stdout",
          "text": [
            "Please type a noun, verb, or adjective: verb\n",
            " it is the noun, verb or adjectives\n",
            "Please type 0 for noun, 1 for verb, or 2 for adjective: 2\n",
            "Looking out my window, the sky is big and verb\n"
          ]
        }
      ]
    },
    {
      "cell_type": "markdown",
      "source": [
        "# print_once_digit"
      ],
      "metadata": {
        "id": "24IG0zdVe9Ug"
      }
    },
    {
      "cell_type": "code",
      "source": [
        "def print_one_digit():\n",
        "  user_num = int(input(\"enter a number.. \"))\n",
        "  one_digit = user_num % 10\n",
        "  print(one_digit)\n",
        "\n",
        "def main6():\n",
        "  print_one_digit()\n",
        "\n",
        "main6()"
      ],
      "metadata": {
        "colab": {
          "base_uri": "https://localhost:8080/"
        },
        "id": "NIfvF9g4XBxa",
        "outputId": "851e0a82-e196-42ed-cf64-87b66ab00cc1"
      },
      "execution_count": 62,
      "outputs": [
        {
          "output_type": "stream",
          "name": "stdout",
          "text": [
            "enter a number.. 3232\n",
            "2\n"
          ]
        }
      ]
    }
  ]
}