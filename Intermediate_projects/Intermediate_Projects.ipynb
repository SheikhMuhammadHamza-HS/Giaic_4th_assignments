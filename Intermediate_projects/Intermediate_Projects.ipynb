{
  "nbformat": 4,
  "nbformat_minor": 0,
  "metadata": {
    "colab": {
      "provenance": []
    },
    "kernelspec": {
      "name": "python3",
      "display_name": "Python 3"
    },
    "language_info": {
      "name": "python"
    }
  },
  "cells": [
    {
      "cell_type": "markdown",
      "source": [
        "# Planetary Weight Calculator"
      ],
      "metadata": {
        "id": "T5Vc8M1VZvKW"
      }
    },
    {
      "cell_type": "code",
      "source": [
        "MERCURY_CONSTANT:float = 37.6\n",
        "VENUS_CONSTANT:float = 88.9\n",
        "MARS_CONSTANT:float = 0.378\n",
        "JUPYTER_CONSTANT:float = 236.0\n",
        "SATURN_CONSTANT:float = 108.1\n",
        "URANUS_CONSTANT:float = 81.5\n",
        "NEPTUNE_CONSTANT:float = 114.0\n",
        "\n",
        "\n",
        "\n",
        "\n",
        "\n"
      ],
      "metadata": {
        "id": "0i4ZUAaSb2pt"
      },
      "execution_count": null,
      "outputs": []
    },
    {
      "cell_type": "code",
      "source": [
        "MARS_CONSTANT: float = 0.378  # Gravity constant for Mars\n",
        "\n",
        "def Planet_weight():\n",
        "    user_weight: float = float(input(\"What is your weight? \"))  # Input weight\n",
        "    planet_name = input(\"What planet are you from? \").strip().lower()  # Input planet name\n",
        "\n",
        "    gravity_constant = 0.0  # Initialize gravity constant\n",
        "\n",
        "    # Assign gravity constant based on the planet\n",
        "    if planet_name == \"mars\":\n",
        "        gravity_constant = MARS_CONSTANT\n",
        "    elif planet_name == \"venus\":\n",
        "        gravity_constant = 0.91\n",
        "    elif planet_name == \"neptune\":\n",
        "        gravity_constant = 1.14\n",
        "    elif planet_name == \"saturn\":\n",
        "        gravity_constant = 1.06\n",
        "    elif planet_name == \"mercury\":\n",
        "        gravity_constant = 0.38\n",
        "    elif planet_name == \"jupiter\":\n",
        "        gravity_constant = 2.34\n",
        "    elif planet_name == \"uranus\":\n",
        "        gravity_constant = 0.92\n",
        "    else:\n",
        "        return \"Invalid planet\"  # If planet name doesn't match\n",
        "    weight = round((user_weight * MARS_CONSTANT),2)\n",
        "    return f\"your weight on {planet_name} is {weight}\"\n",
        "\n",
        "Planet_weight()"
      ],
      "metadata": {
        "id": "yKUkCCpk_SFE",
        "colab": {
          "base_uri": "https://localhost:8080/",
          "height": 70
        },
        "outputId": "e77643d3-f768-4c03-e60a-db56528a2c71"
      },
      "execution_count": null,
      "outputs": [
        {
          "name": "stdout",
          "output_type": "stream",
          "text": [
            "What is your weight? 90\n",
            "What planet are you from? saturn\n"
          ]
        },
        {
          "output_type": "execute_result",
          "data": {
            "text/plain": [
              "'your weight on saturn is 34.02'"
            ],
            "application/vnd.google.colaboratory.intrinsic+json": {
              "type": "string"
            }
          },
          "metadata": {},
          "execution_count": 37
        }
      ]
    },
    {
      "cell_type": "markdown",
      "source": [
        "Same Task but different Method\n"
      ],
      "metadata": {
        "id": "9pirmCUjKblP"
      }
    },
    {
      "cell_type": "code",
      "source": [
        "def calculate_weight_on_planet(earth_weight, planet):\n",
        "\n",
        "  gravity_constant = {\n",
        "      \"Mercury\": 0.38,\n",
        "      \"Venus\": 0.91,\n",
        "      \"Mars\": 0.38,\n",
        "      \"Jupiter\": 2.34,\n",
        "      \"Neptune\": 1.14,\n",
        "      \"Saturn\": 1.06,\n",
        "      \"Uranus\" : 0.815,\n",
        "  }\n",
        "\n",
        "  if planet in gravity_constant:\n",
        "    weight_on_planet = earth_weight * gravity_constant[planet]\n",
        "    return f\"your weight on {planet} is {weight_on_planet}\"\n",
        "  else:\n",
        "    print(\"Invalid Planet\")\n",
        "\n",
        "earth_weight = float(input(\"Enter your weight on earth???\"))\n",
        "planet = input(\"Enter the name of a planet solar system??\")\n",
        "print(calculate_weight_on_planet(earth_weight,planet))\n"
      ],
      "metadata": {
        "colab": {
          "base_uri": "https://localhost:8080/"
        },
        "id": "Wa_4QemtKiAU",
        "outputId": "f58d9094-b831-495f-97bd-a20c2837d678"
      },
      "execution_count": null,
      "outputs": [
        {
          "output_type": "stream",
          "name": "stdout",
          "text": [
            "Enter your weight on earth???80\n",
            "Enter the name of a planet solar system??Mars\n",
            "your weight on Mars is 30.4\n"
          ]
        }
      ]
    },
    {
      "cell_type": "markdown",
      "source": [
        "Further Optimize Code"
      ],
      "metadata": {
        "id": "3h879UH-Mvgc"
      }
    },
    {
      "cell_type": "code",
      "source": [
        "def calculate_weight_on_planet(earth_weight, planet):\n",
        "    gravity_constant = {\n",
        "        \"Mercury\": 0.38,\n",
        "        \"Venus\": 0.91,\n",
        "        \"Mars\": 0.38,\n",
        "        \"Jupiter\": 2.34,\n",
        "        \"Neptune\": 1.14,\n",
        "        \"Saturn\": 1.06,\n",
        "        \"Uranus\": 0.815,\n",
        "    }\n",
        "\n",
        "    if planet in gravity_constant:\n",
        "        weight_on_planet = earth_weight * gravity_constant[planet]\n",
        "        return f\"Your weight on {planet} is {weight_on_planet:.2f} kg.\"\n",
        "    else:\n",
        "        return \"Invalid planet. Please choose a valid planet name from the solar system.\"\n",
        "\n",
        "# Main Code\n",
        "def Main():\n",
        "  while True:\n",
        "    try:\n",
        "      earth_weight = float(input(\"Enter your weight on Earth (kg): \"))\n",
        "      break\n",
        "    except ValueError:\n",
        "      print(\"Invalid input. Please enter a valid number\")\n",
        "\n",
        "  planet = input(\"Enter the name of a planet in the solar system: \").capitalize()\n",
        "  print(calculate_weight_on_planet(earth_weight, planet))\n",
        "\n",
        "Main()"
      ],
      "metadata": {
        "id": "FzZcnqV3QUgE",
        "colab": {
          "base_uri": "https://localhost:8080/"
        },
        "outputId": "5eeb13a1-a5b6-4327-cfcd-f8c68a29cd66"
      },
      "execution_count": null,
      "outputs": [
        {
          "output_type": "stream",
          "name": "stdout",
          "text": [
            "Enter your weight on Earth (kg): 45\n",
            "Enter the name of a planet in the solar system: mercury\n",
            "Your weight on Mercury is 17.10 kg.\n"
          ]
        }
      ]
    },
    {
      "cell_type": "code",
      "source": [
        "Main()"
      ],
      "metadata": {
        "colab": {
          "base_uri": "https://localhost:8080/"
        },
        "id": "7P0EPp-tbdzD",
        "outputId": "7aa283b3-d92f-4ddb-c276-3d8b8df91619"
      },
      "execution_count": null,
      "outputs": [
        {
          "output_type": "stream",
          "name": "stdout",
          "text": [
            "Enter your weight on Earth (kg): jupiter\n",
            "Invalid input. Please enter a valid weight.\n",
            "Enter your weight on Earth (kg): 90\n",
            "Enter the name of a planet in the solar system: Jupiter\n",
            "Your weight on Jupiter is 210.60 kg.\n"
          ]
        }
      ]
    },
    {
      "cell_type": "markdown",
      "source": [
        "#  High Low Game"
      ],
      "metadata": {
        "id": "yg8yhVG3YzdQ"
      }
    },
    {
      "cell_type": "code",
      "source": [
        "import random\n",
        "\n",
        "NUM_ROUNDS = 3\n",
        "current_round = 0\n",
        "score = 0\n",
        "\n",
        "\n",
        "while True:\n",
        "  print(\"Welcome to the High-Low Game!\")\n",
        "  print('--------------------------------')\n",
        "\n",
        "  current_round += 1\n",
        "  if current_round > NUM_ROUNDS:\n",
        "   break\n",
        "\n",
        "\n",
        "  # Milestone 1 : Generate the random numbers for you and the computer. For now, print both of them out to help you test the logic in later milestones.\n",
        "\n",
        "  random_comp = random.randint(1, 100)\n",
        "  random_my = random.randint(1, 100)\n",
        "  print(f\" my random number is {random_my}\")\n",
        "\n",
        "  # Milestone 2: Get user input for their choice of whether they think their number is higher or lower than the computer's number.\n",
        "  high_low_choice: str = input(\"Do you think your number is higher or lower than the computer's? \").lower()\n",
        "  print(f\"your choice is {high_low_choice}\")\n",
        "\n",
        "# milestone 3:  compare the number\n",
        "# The computer's number is 79\n",
        "# Your number is 3\n",
        "# Do you think your number is higher or lower than the computer's?: lower\n",
        "# You were right! The computer's number was 79\n",
        "\n",
        "  is_high_than_computer: bool = True if random_comp > random_my else False\n",
        "  is_user_choice_correct: bool = True if (high_low_choice == \"higher\" and is_high_than_computer) or (high_low_choice == \"lower\" and not is_high_than_computer) else False\n",
        "  if is_user_choice_correct:\n",
        "    score += 1\n",
        "    print(f\"You were right! The computer's number was {random_comp}\")\n",
        "  else:\n",
        "    print(f\"You were wrong! The computer's number was {random_comp}\")\n",
        "  print(f\"is_user_choice_correct {is_user_choice_correct}\")\n",
        "  print(f\" the computer random Number is {random_comp}\")\n",
        "  print(f\"Your  final score is {score}\")\n",
        "\n",
        "#  milestone 4 : Play multiple rounds\n",
        "\n",
        "\n"
      ],
      "metadata": {
        "colab": {
          "base_uri": "https://localhost:8080/"
        },
        "id": "Z_I1IQ3uhrPt",
        "outputId": "b1dc5f90-4c9e-4d70-d314-a3e5b6928e1b"
      },
      "execution_count": null,
      "outputs": [
        {
          "output_type": "stream",
          "name": "stdout",
          "text": [
            "Welcome to the High-Low Game!\n",
            "--------------------------------\n",
            " my random number is 5\n",
            "Do you think your number is higher or lower than the computer's? higher\n",
            "your choice is higher\n",
            "You were right! The computer's number was 34\n",
            "is_user_choice_correct True\n",
            " the computer random Number is 34\n",
            "Your  final score is 1\n",
            "Welcome to the High-Low Game!\n",
            "--------------------------------\n",
            " my random number is 48\n",
            "Do you think your number is higher or lower than the computer's? lower\n",
            "your choice is lower\n",
            "You were wrong! The computer's number was 56\n",
            "is_user_choice_correct False\n",
            " the computer random Number is 56\n",
            "Your  final score is 1\n",
            "Welcome to the High-Low Game!\n",
            "--------------------------------\n",
            " my random number is 81\n",
            "Do you think your number is higher or lower than the computer's? higher\n",
            "your choice is higher\n",
            "You were wrong! The computer's number was 8\n",
            "is_user_choice_correct False\n",
            " the computer random Number is 8\n",
            "Your  final score is 1\n",
            "Welcome to the High-Low Game!\n",
            "--------------------------------\n"
          ]
        }
      ]
    },
    {
      "cell_type": "code",
      "source": [
        "\n"
      ],
      "metadata": {
        "id": "W0Y9p4J7A1vL"
      },
      "execution_count": null,
      "outputs": []
    }
  ]
}