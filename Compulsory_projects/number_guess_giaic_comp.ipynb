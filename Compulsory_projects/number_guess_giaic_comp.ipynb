{
  "nbformat": 4,
  "nbformat_minor": 0,
  "metadata": {
    "colab": {
      "provenance": []
    },
    "kernelspec": {
      "name": "python3",
      "display_name": "Python 3"
    },
    "language_info": {
      "name": "python"
    }
  },
  "cells": [
    {
      "cell_type": "markdown",
      "source": [
        "Project 2: Guess the Number Game Python Project (computer)"
      ],
      "metadata": {
        "id": "m35henjAwrgT"
      }
    },
    {
      "cell_type": "code",
      "execution_count": 4,
      "metadata": {
        "id": "iuG7pHbmWmXf",
        "colab": {
          "base_uri": "https://localhost:8080/"
        },
        "outputId": "b25b81d9-fe9f-4bf5-cfd0-68dd68888ac0"
      },
      "outputs": [
        {
          "output_type": "stream",
          "name": "stdout",
          "text": [
            "Welcome to the Guess the Number Game!\n",
            "I have selected a number between 1 and 100. Can you guess it?\n",
            "You have 5 attempts.\n",
            "Enter your guess: 45\n",
            "Too high!\n",
            "You have 4 attempts left. Try again!\n",
            "\n",
            "Enter your guess: 43\n",
            "Too high!\n",
            "You have 3 attempts left. Try again!\n",
            "\n",
            "Enter your guess: 33\n",
            "Too high!\n",
            "You have 2 attempts left. Try again!\n",
            "\n",
            "Enter your guess: 43\n",
            "Too high!\n",
            "You have 1 attempts left. Try again!\n",
            "\n",
            "Enter your guess: 90\n",
            "Too high!\n",
            "😞 Sorry, you're out of attempts. The number was 29.\n",
            "Best of luck for the next time!\n"
          ]
        }
      ],
      "source": [
        "import random\n",
        "\n",
        "def guess_the_number():\n",
        "    number_to_guess = random.randint(1, 100)\n",
        "    attempts = 5\n",
        "    guess = None\n",
        "\n",
        "    print(\"Welcome to the Guess the Number Game!\")\n",
        "    print(\"I have selected a number between 1 and 100. Can you guess it?\")\n",
        "    print(f\"You have {attempts} attempts.\")\n",
        "\n",
        "    while attempts > 0:\n",
        "        guess = int(input(\"Enter your guess: \"))\n",
        "\n",
        "        if guess < number_to_guess:\n",
        "            print(\"Too low!\")\n",
        "        elif guess > number_to_guess:\n",
        "            print(\"Too high!\")\n",
        "        else:\n",
        "            print(f\"🎉 Congratulations! You've guessed the number {number_to_guess} correctly.\")\n",
        "            break  # Game ends on correct guess\n",
        "\n",
        "        attempts -= 1\n",
        "        if attempts > 0:\n",
        "            print(f\"You have {attempts} attempts left. Try again!\\n\")\n",
        "        else:\n",
        "            print(f\"😞 Sorry, you're out of attempts. The number was {number_to_guess}.\")\n",
        "            print(\"Best of luck for the next time!\")\n",
        "\n",
        "if __name__ == \"__main__\":\n",
        "    guess_the_number()\n"
      ]
    }
  ]
}