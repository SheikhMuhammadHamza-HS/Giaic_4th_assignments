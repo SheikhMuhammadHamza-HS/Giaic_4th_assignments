{
  "nbformat": 4,
  "nbformat_minor": 0,
  "metadata": {
    "colab": {
      "provenance": []
    },
    "kernelspec": {
      "name": "python3",
      "display_name": "Python 3"
    },
    "language_info": {
      "name": "python"
    }
  },
  "cells": [
    {
      "cell_type": "markdown",
      "source": [
        "Project 2: Guess the Number Game Python Project (User)"
      ],
      "metadata": {
        "id": "m35henjAwrgT"
      }
    },
    {
      "cell_type": "code",
      "execution_count": null,
      "metadata": {
        "id": "iuG7pHbmWmXf",
        "colab": {
          "base_uri": "https://localhost:8080/"
        },
        "outputId": "cee07f22-9ffd-4739-a2aa-be65df41ba72"
      },
      "outputs": [
        {
          "output_type": "stream",
          "name": "stdout",
          "text": [
            "Welcome to the Guess the Number Game!\n",
            "I have selected a number between 1 and 100. Can you guess it?\n",
            "You have 5 attempts.\n",
            "\n",
            "Enter your guess: 45\n",
            "Too high! Try again.\n",
            "Attempts left: 4\n",
            "\n",
            "Enter your guess: 32\n",
            "Too low! Try again.\n",
            "Attempts left: 3\n",
            "\n",
            "Enter your guess: 677\n",
            "Too high! Try again.\n",
            "Attempts left: 2\n",
            "\n",
            "Enter your guess: 54\n",
            "Too high! Try again.\n",
            "Attempts left: 1\n",
            "\n",
            "Enter your guess: 78\n",
            "Too high! Try again.\n",
            "\n",
            "😞 Sorry! You've used all 5 attempts. The number was 44.\n",
            "💡 Best of luck for the next time!\n"
          ]
        }
      ],
      "source": [
        "import random\n",
        "\n",
        "def guess_the_number():\n",
        "    number_to_guess = random.randint(1, 100)\n",
        "    attempts = 0\n",
        "    max_attempts = 5\n",
        "    guessed = False\n",
        "\n",
        "    print(\"Welcome to the Guess the Number Game!\")\n",
        "    print(\"I have selected a number between 1 and 100. Can you guess it?\")\n",
        "    print(f\"You have {max_attempts} attempts.\\n\")\n",
        "\n",
        "    while not guessed and attempts < max_attempts:\n",
        "        try:\n",
        "            user_guess = int(input(\"Enter your guess: \"))\n",
        "            attempts += 1\n",
        "\n",
        "            if user_guess < number_to_guess:\n",
        "                print(\"Too low! Try again.\")\n",
        "            elif user_guess > number_to_guess:\n",
        "                print(\"Too high! Try again.\")\n",
        "            else:\n",
        "                guessed = True\n",
        "                print(f\"🎉 Congratulations! You've guessed the number {number_to_guess} in {attempts} attempts.\")\n",
        "        except ValueError:\n",
        "            print(\" Please enter a valid integer.\")\n",
        "\n",
        "        if not guessed and attempts < max_attempts:\n",
        "            print(f\"Attempts left: {max_attempts - attempts}\\n\")\n",
        "\n",
        "    if not guessed:\n",
        "        print(f\"\\n Sorry! You've used all {max_attempts} attempts. The number was {number_to_guess}.\")\n",
        "        print(\" Best of luck for the next time!\")\n",
        "\n",
        "if __name__ == \"__main__\":\n",
        "    guess_the_number()\n"
      ]
    }
  ]
}