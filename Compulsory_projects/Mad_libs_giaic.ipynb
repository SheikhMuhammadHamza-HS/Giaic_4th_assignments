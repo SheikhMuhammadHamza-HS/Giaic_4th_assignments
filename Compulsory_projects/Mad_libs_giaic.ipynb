{
  "nbformat": 4,
  "nbformat_minor": 0,
  "metadata": {
    "colab": {
      "provenance": []
    },
    "kernelspec": {
      "name": "python3",
      "display_name": "Python 3"
    },
    "language_info": {
      "name": "python"
    }
  },
  "cells": [
    {
      "cell_type": "code",
      "execution_count": null,
      "metadata": {
        "colab": {
          "base_uri": "https://localhost:8080/"
        },
        "id": "FoV0-lq0YExb",
        "outputId": "91db45a7-8cb2-4f46-f4c0-904012e1d536"
      },
      "outputs": [
        {
          "output_type": "stream",
          "name": "stdout",
          "text": [
            "Adjective: exciting\n",
            "Verb: coding\n",
            "Verb: run\n",
            "Famous person: Hamza sheikh\n",
            "Computer programming is so exciting! It makes me so so excited  all the time because\n",
            "i love to coding. stay hydrated and run like you are Hamza sheikh\n"
          ]
        }
      ],
      "source": [
        "adj = input(\"Adjective: \")\n",
        "verb1 = input(\"Verb: \")\n",
        "verb2 = input(\"Verb: \")\n",
        "famous_person = input(\"Famous person: \")\n",
        "\n",
        "Madlib = f\"\"\"Computer programming is so {adj}! It makes me so so excited  all the time because\n",
        "i love to {verb1}. stay hydrated and {verb2} like you are {famous_person}\"\"\"\n",
        "\n",
        "print(Madlib)"
      ]
    }
  ]
}