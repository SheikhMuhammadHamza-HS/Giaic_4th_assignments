{
  "nbformat": 4,
  "nbformat_minor": 0,
  "metadata": {
    "colab": {
      "provenance": []
    },
    "kernelspec": {
      "name": "python3",
      "display_name": "Python 3"
    },
    "language_info": {
      "name": "python"
    }
  },
  "cells": [
    {
      "cell_type": "code",
      "execution_count": 6,
      "metadata": {
        "colab": {
          "base_uri": "https://localhost:8080/"
        },
        "id": "6XkxIz4_8AkN",
        "outputId": "992225ab-f111-4992-8669-af76595cdf93"
      },
      "outputs": [
        {
          "output_type": "stream",
          "name": "stdout",
          "text": [
            "Enter rock, paper, or scissors: paper\n",
            "You chose: paper\n",
            "Computer chose: scissors\n",
            "You lose!\n"
          ]
        }
      ],
      "source": [
        "# Rock, Paper, Scissors Game\n",
        "\n",
        "import random\n",
        "\n",
        "def get_user_choice():\n",
        "    user_input = input(\"Enter rock, paper, or scissors: \").lower()\n",
        "    while user_input not in [\"rock\", \"paper\", \"scissors\"]:\n",
        "        user_input = input(\"Invalid choice. Please enter rock, paper, or scissors: \").lower()\n",
        "    return user_input\n",
        "\n",
        "def get_computer_choice():\n",
        "    return random.choice([\"rock\", \"paper\", \"scissors\"])\n",
        "\n",
        "def determine_winner(user_choice, computer_choice):\n",
        "    if user_choice == computer_choice:\n",
        "        return \"It's a tie!\"\n",
        "    elif (user_choice.lower().strip() == \"rock\" and computer_choice == \"scissors\") or \\\n",
        "         (user_choice.lower().strip() == \"paper\" and computer_choice == \"rock\") or \\\n",
        "         (user_choice.lower().strip() == \"scissors\" and computer_choice == \"paper\"):\n",
        "        return \"You win!\"\n",
        "    else:\n",
        "        return \"You lose!\"\n",
        "\n",
        "def play_game():\n",
        "    user_choice = get_user_choice()\n",
        "    computer_choice = get_computer_choice()\n",
        "    print(f\"You chose: {user_choice}\")\n",
        "    print(f\"Computer chose: {computer_choice}\")\n",
        "    result = determine_winner(user_choice, computer_choice)\n",
        "    print(result)\n",
        "\n",
        "if __name__ == \"__main__\":\n",
        "    play_game()\n"
      ]
    }
  ]
}