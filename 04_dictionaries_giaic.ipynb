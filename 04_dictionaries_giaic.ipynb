{
  "nbformat": 4,
  "nbformat_minor": 0,
  "metadata": {
    "colab": {
      "provenance": []
    },
    "kernelspec": {
      "name": "python3",
      "display_name": "Python 3"
    },
    "language_info": {
      "name": "python"
    }
  },
  "cells": [
    {
      "cell_type": "markdown",
      "source": [
        "#01 Count_nums"
      ],
      "metadata": {
        "id": "zP6eGy3khc6k"
      }
    },
    {
      "cell_type": "code",
      "source": [
        "def count_nums():\n",
        "  count = {}\n",
        "\n",
        "  while True:\n",
        "    user_input = input(\"enter a value.. \")\n",
        "    if user_input.lower().strip() == \"done\":\n",
        "      break\n",
        "    if user_input in count:\n",
        "      count[user_input] += 1\n",
        "    else:\n",
        "      count[user_input] = 1\n",
        "  print(count)\n",
        "\n",
        "\n",
        "count_nums()\n",
        "\n"
      ],
      "metadata": {
        "colab": {
          "base_uri": "https://localhost:8080/"
        },
        "id": "j7MmZcn_gJiT",
        "outputId": "94bdf776-6fac-457b-a19d-bbb81d7c8318"
      },
      "execution_count": 4,
      "outputs": [
        {
          "output_type": "stream",
          "name": "stdout",
          "text": [
            "enter a value.. 1\n",
            "enter a value.. 2\n",
            "enter a value.. 3\n",
            "enter a value.. 4\n",
            "enter a value.. 5\n",
            "enter a value.. 6\n",
            "enter a value.. 4\n",
            "enter a value.. 5\n",
            "enter a value.. 3\n",
            "enter a value.. 2\n",
            "enter a value.. 2\n",
            "enter a value.. 4\n",
            "enter a value.. done\n",
            "{'1': 1, '2': 3, '3': 2, '4': 3, '5': 2, '6': 1}\n"
          ]
        }
      ]
    },
    {
      "cell_type": "markdown",
      "source": [
        "# 02 Phone_Book"
      ],
      "metadata": {
        "id": "NTNLhIBOhsC-"
      }
    },
    {
      "cell_type": "code",
      "source": [
        "def phone_book():\n",
        "  phone_dict = {}\n",
        "  while True:\n",
        "    user_name = input(\"Enter Your name... \")\n",
        "    if user_name.lower().strip() == \"done\":\n",
        "      break\n",
        "    user_phone = input(\"Enter Your phone number... \")\n",
        "    phone_dict[user_name] = user_phone\n",
        "  print(phone_dict)\n",
        "\n",
        "\n",
        "phone_book()"
      ],
      "metadata": {
        "colab": {
          "base_uri": "https://localhost:8080/"
        },
        "id": "qt0g3FYFhwfj",
        "outputId": "53685213-3223-45fc-9d39-58a744806767"
      },
      "execution_count": 13,
      "outputs": [
        {
          "output_type": "stream",
          "name": "stdout",
          "text": [
            "Enter Your name... hh\n",
            "Enter Your phone number... 33\n",
            "Enter Your name... ff\n",
            "Enter Your phone number... 33\n",
            "Enter Your name... done\n",
            "{'hh': '33', 'ff': '33'}\n"
          ]
        }
      ]
    },
    {
      "cell_type": "markdown",
      "source": [
        " # 03 02_pop_up_shop"
      ],
      "metadata": {
        "id": "gYwKt4yficza"
      }
    },
    {
      "cell_type": "code",
      "source": [
        "def pop_up_shop():\n",
        "  fruits = {\n",
        "      \"mango\": 150,\n",
        "      \"apple\" : 100,\n",
        "      \"Banana\": 70,\n",
        "      \"cherry\": 120\n",
        "  }\n",
        "\n",
        "  total_price = 0\n",
        "  for fruit in fruits:\n",
        "    quantity = int(input(f\"How many {fruit} do You want to buy? \"))\n",
        "    total_price += fruits[fruit] * quantity\n",
        "  print(f\"Your total price is {total_price}\")\n",
        "\n",
        "pop_up_shop()"
      ],
      "metadata": {
        "colab": {
          "base_uri": "https://localhost:8080/"
        },
        "id": "Q55ZiYRjii8z",
        "outputId": "b98305de-c95c-40e5-9bae-1abd09d2d849"
      },
      "execution_count": 8,
      "outputs": [
        {
          "output_type": "stream",
          "name": "stdout",
          "text": [
            "How many mango do You want to buy? 1\n",
            "How many apple do You want to buy? 1\n",
            "How many Banana do You want to buy? 1\n",
            "How many cherry do You want to buy? 1\n",
            "Your total price is 440\n"
          ]
        }
      ]
    },
    {
      "cell_type": "markdown",
      "source": [
        "# 04 Powerfull_password"
      ],
      "metadata": {
        "id": "XbIWZQ11sOyV"
      }
    },
    {
      "cell_type": "code",
      "source": [
        "import hashlib\n",
        "\n",
        "# Password ko SHA256 hash me convert karta hai\n",
        "def hash_password(password):\n",
        "    return hashlib.sha256(password.encode()).hexdigest()\n",
        "\n",
        "# Login check karne ka function\n",
        "def login(email, password_to_check, stored_logins):\n",
        "    # Jo password diya gaya hai, uska hash banao\n",
        "    hashed_input = hash_password(password_to_check)\n",
        "\n",
        "    # Stored hash se compare karo\n",
        "    return stored_logins.get(email) == hashed_input\n",
        "\n",
        "# 🔒 Example: Stored login data (emails & hashed passwords)\n",
        "stored_logins = {\n",
        "    \"user1@example.com\": hash_password(\"hello123\"),\n",
        "    \"user2@example.com\": hash_password(\"securePass\"),\n",
        "    \"admin@site.com\": hash_password(\"admin123\"),\n",
        "}\n",
        "\n",
        "# 🔍 Test cases\n",
        "print(login(\"user1@example.com\", \"hello123\", stored_logins))\n",
        "print(login(\"user2@example.com\", \"wrongPass\", stored_logins))\n",
        "print(login(\"admin@site.com\", \"admin123\", stored_logins))\n",
        "print(login(\"unknown@example.com\", \"hello123\", stored_logins))\n"
      ],
      "metadata": {
        "colab": {
          "base_uri": "https://localhost:8080/"
        },
        "id": "bKjMHK-Jrsr9",
        "outputId": "5457d2b8-5c18-4529-f6d6-768f0a74f4b3"
      },
      "execution_count": 9,
      "outputs": [
        {
          "output_type": "stream",
          "name": "stdout",
          "text": [
            "True\n",
            "False\n",
            "True\n",
            "False\n"
          ]
        }
      ]
    }
  ]
}