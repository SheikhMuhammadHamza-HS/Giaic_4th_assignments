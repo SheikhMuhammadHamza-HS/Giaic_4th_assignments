{
  "nbformat": 4,
  "nbformat_minor": 0,
  "metadata": {
    "colab": {
      "provenance": []
    },
    "kernelspec": {
      "name": "python3",
      "display_name": "Python 3"
    },
    "language_info": {
      "name": "python"
    }
  },
  "cells": [
    {
      "cell_type": "markdown",
      "source": [
        "# Choosing returns"
      ],
      "metadata": {
        "id": "B0YWZYiLq6zf"
      }
    },
    {
      "cell_type": "code",
      "execution_count": 1,
      "metadata": {
        "colab": {
          "base_uri": "https://localhost:8080/"
        },
        "id": "bNGuwBexgvEP",
        "outputId": "a2b1ba28-413f-4c19-ca28-f00175175efa"
      },
      "outputs": [
        {
          "output_type": "stream",
          "name": "stdout",
          "text": [
            "Enter your age: 33\n",
            "You are an adult.\n"
          ]
        }
      ],
      "source": [
        "def is_adult():\n",
        "  age = int(input(\"Enter your age: \"))\n",
        "  if age >= 18:\n",
        "    print(\"You are an adult.\")\n",
        "  else:\n",
        "    print(\"You are not an adult.\")\n",
        "\n",
        "is_adult()"
      ]
    },
    {
      "cell_type": "markdown",
      "source": [
        "# Greetings"
      ],
      "metadata": {
        "id": "WNXHRGpBrCZd"
      }
    },
    {
      "cell_type": "code",
      "source": [
        "def greet(name: str):\n",
        "  return f\"Hello, {name}!\"\n",
        "\n",
        "\n",
        "\n",
        "def main():\n",
        "  name = input(\"enter your name: \")\n",
        "  print(greet(name))\n",
        "\n",
        "main()"
      ],
      "metadata": {
        "colab": {
          "base_uri": "https://localhost:8080/"
        },
        "id": "g-C9LJOXhNOv",
        "outputId": "a76c2ea5-1b92-4433-9620-eadac3f2099b"
      },
      "execution_count": 4,
      "outputs": [
        {
          "output_type": "stream",
          "name": "stdout",
          "text": [
            "enter your name: rea\n",
            "Hello, rea!\n"
          ]
        }
      ]
    },
    {
      "cell_type": "markdown",
      "source": [
        "# In_range"
      ],
      "metadata": {
        "id": "U7VU95P2rFa-"
      }
    },
    {
      "cell_type": "code",
      "source": [
        "def in_range(n,low,high):\n",
        "  if n >= low and n <= high:\n",
        "    return True\n",
        "  else:\n",
        "    return False\n",
        "\n",
        "def main1():\n",
        "  n = int(input(\"enter a number: \"))\n",
        "  low = int(input(\"enter a low number: \"))\n",
        "  high = int(input(\"enter a high number: \"))\n",
        "  print(in_range(n,low,high))\n",
        "\n",
        "main1()"
      ],
      "metadata": {
        "colab": {
          "base_uri": "https://localhost:8080/"
        },
        "id": "LGpvAC68h74w",
        "outputId": "3906a915-47ac-453e-e276-a4774cc447b8"
      },
      "execution_count": 9,
      "outputs": [
        {
          "output_type": "stream",
          "name": "stdout",
          "text": [
            "enter a number: 3\n",
            "enter a low number: 2\n",
            "enter a high number: 2\n",
            "False\n"
          ]
        }
      ]
    },
    {
      "cell_type": "markdown",
      "source": [
        "# In_stock"
      ],
      "metadata": {
        "id": "kVP89jIgrIM5"
      }
    },
    {
      "cell_type": "code",
      "source": [
        "def num_in_stock(fruit):\n",
        "\n",
        "  if fruit.lower().strip() == \"apple\":\n",
        "    return 3\n",
        "  elif fruit.lower().strip() == 'mango':\n",
        "    return 4\n",
        "  elif fruit.lower().strip() == \"grapes\":\n",
        "    return 2\n",
        "  else:\n",
        "    return 0\n",
        "\n",
        "def main():\n",
        "  fruit = input(\"enter a fruit: \")\n",
        "  stock = num_in_stock(fruit)\n",
        "  print(stock)\n",
        "\n",
        "main()"
      ],
      "metadata": {
        "colab": {
          "base_uri": "https://localhost:8080/"
        },
        "id": "7HsVMpLSjuLu",
        "outputId": "da953e5e-fd81-4b08-da87-d10300c27b69"
      },
      "execution_count": 15,
      "outputs": [
        {
          "output_type": "stream",
          "name": "stdout",
          "text": [
            "enter a fruit: maNgo\n",
            "4\n"
          ]
        }
      ]
    },
    {
      "cell_type": "markdown",
      "source": [
        "# Multiple_returns"
      ],
      "metadata": {
        "id": "rJHhVm-prLGq"
      }
    },
    {
      "cell_type": "code",
      "source": [
        "def get_user_data():\n",
        "  user_first_name = input(\"enter your first name: \")\n",
        "  user_last_name = input(\"enter your last name: \")\n",
        "  user_email = input(\"enter your Email: \")\n",
        "  return user_first_name, user_last_name, user_email\n",
        "\n",
        "user_data = get_user_data()\n",
        "print(f\" receive the following user data{user_data}\")\n",
        "\n"
      ],
      "metadata": {
        "colab": {
          "base_uri": "https://localhost:8080/"
        },
        "id": "0dPLS0U2mISF",
        "outputId": "8ec131c1-0db7-49c4-f1c9-6a611b5868de"
      },
      "execution_count": 20,
      "outputs": [
        {
          "output_type": "stream",
          "name": "stdout",
          "text": [
            "enter your first name: asad\n",
            "enter your last name: sheikh\n",
            "enter your Email: hamza.@gmail.com\n",
            " receive the following user data('asad', 'sheikh', 'hamza.@gmail.com')\n"
          ]
        }
      ]
    },
    {
      "cell_type": "markdown",
      "source": [
        "# subtract_seven"
      ],
      "metadata": {
        "id": "e7F33twrrOu1"
      }
    },
    {
      "cell_type": "code",
      "source": [
        "def subtract_seven(num):\n",
        "  return num - 7\n",
        "\n",
        "def main():\n",
        "  num = int(input(\"enter a number: \"))\n",
        "  result = subtract_seven(num)\n",
        "  print(result)\n",
        "\n",
        "main()\n"
      ],
      "metadata": {
        "colab": {
          "base_uri": "https://localhost:8080/"
        },
        "id": "E22JLj38nH0D",
        "outputId": "5eca6995-432c-4f72-ee3d-994a37502eb5"
      },
      "execution_count": 21,
      "outputs": [
        {
          "output_type": "stream",
          "name": "stdout",
          "text": [
            "enter a number: 33\n",
            "26\n"
          ]
        }
      ]
    }
  ]
}