{
  "nbformat": 4,
  "nbformat_minor": 0,
  "metadata": {
    "colab": {
      "provenance": []
    },
    "kernelspec": {
      "name": "python3",
      "display_name": "Python 3"
    },
    "language_info": {
      "name": "python"
    }
  },
  "cells": [
    {
      "cell_type": "markdown",
      "source": [
        "# 01 Guess_my_number"
      ],
      "metadata": {
        "id": "L70eGHhmIgp2"
      }
    },
    {
      "cell_type": "code",
      "source": [
        "import random\n",
        "secret_num = random.randint(0,9)\n",
        "while True:\n",
        "  user_num = int(input(\"Guess the number... \"))\n",
        "  if user_num > secret_num:\n",
        "    print(\"You guessed too high\")\n",
        "  elif user_num == secret_num:\n",
        "    print(f\"Congratulations.. You guessed the right number.. the number was {secret_num}\")\n",
        "    break\n",
        "  elif user_num < secret_num:\n",
        "    print(\"You guessed too low\")\n",
        "  else:\n",
        "    print(\"better luck next time... \")\n",
        ""
      ],
      "metadata": {
        "colab": {
          "base_uri": "https://localhost:8080/"
        },
        "id": "4Golvos8YbZx",
        "outputId": "8818838b-4887-4b70-b01e-742ac04b8c51"
      },
      "execution_count": 3,
      "outputs": [
        {
          "output_type": "stream",
          "name": "stdout",
          "text": [
            "Guess the number... 3\n",
            "You guessed too low\n",
            "Guess the number... 0\n",
            "You guessed too low\n",
            "Guess the number... 9\n",
            "You guessed too high\n",
            "Guess the number... 5\n",
            "You guessed too high\n",
            "Guess the number... 3\n",
            "You guessed too low\n",
            "Guess the number... 3\n",
            "You guessed too low\n",
            "Guess the number... 5\n",
            "You guessed too high\n",
            "Guess the number... 4\n",
            "Congratulations.. You guess the right number.. the number was 4\n"
          ]
        }
      ]
    },
    {
      "cell_type": "markdown",
      "source": [
        "# 2 fibonacci"
      ],
      "metadata": {
        "id": "WplhBJFPIvWm"
      }
    },
    {
      "cell_type": "code",
      "source": [
        "def fibonacci():\n",
        "  max_value = 10000\n",
        "  first = 0\n",
        "  second = 1\n",
        "\n",
        "  while True:\n",
        "    if first > max_value:\n",
        "      break\n",
        "    print(first)\n",
        "    add_val = first + second\n",
        "    first = second\n",
        "    second = add_val\n",
        "fibonacci()\n",
        "\n"
      ],
      "metadata": {
        "colab": {
          "base_uri": "https://localhost:8080/"
        },
        "id": "VSi1Y_bmaqGV",
        "outputId": "579ae33f-de2e-485d-abf9-e537abf72ce7"
      },
      "execution_count": 4,
      "outputs": [
        {
          "output_type": "stream",
          "name": "stdout",
          "text": [
            "0\n",
            "1\n",
            "1\n",
            "2\n",
            "3\n",
            "5\n",
            "8\n",
            "13\n",
            "21\n",
            "34\n",
            "55\n",
            "89\n",
            "144\n",
            "233\n",
            "377\n",
            "610\n",
            "987\n",
            "1597\n",
            "2584\n",
            "4181\n",
            "6765\n"
          ]
        }
      ]
    },
    {
      "cell_type": "markdown",
      "source": [
        "# 03 print_events"
      ],
      "metadata": {
        "id": "HGp7l4xlI20E"
      }
    },
    {
      "cell_type": "code",
      "source": [
        "def even_num():\n",
        "  for i in range(20):\n",
        "    print(i * 2)\n",
        "even_num()"
      ],
      "metadata": {
        "colab": {
          "base_uri": "https://localhost:8080/"
        },
        "id": "U8474uzJuYmd",
        "outputId": "f8e137c2-6721-48a2-827d-b09f2f2db07e"
      },
      "execution_count": 6,
      "outputs": [
        {
          "output_type": "stream",
          "name": "stdout",
          "text": [
            "0\n",
            "2\n",
            "4\n",
            "6\n",
            "8\n",
            "10\n",
            "12\n",
            "14\n",
            "16\n",
            "18\n",
            "20\n",
            "22\n",
            "24\n",
            "26\n",
            "28\n",
            "30\n",
            "32\n",
            "34\n",
            "36\n",
            "38\n"
          ]
        }
      ]
    },
    {
      "cell_type": "markdown",
      "source": [
        "# 04 Wholesome_machine"
      ],
      "metadata": {
        "id": "5AIWsrlaI7Ab"
      }
    },
    {
      "cell_type": "code",
      "source": [
        "def main():\n",
        "  AFFIRMATION: str = \"I am capable of doing anything I put my mind to.\"\n",
        "  print(f\"please folllowing the affirmation.. {AFFIRMATION}\")\n",
        "  while True:\n",
        "    user_feedback = input(\"enter the  affirmation.. \")\n",
        "    if user_feedback == AFFIRMATION:\n",
        "      print(\"that's Right\")\n",
        "      break\n",
        "    else:\n",
        "      print(\"That was not the affirmation.\")\n",
        "\n",
        "main()"
      ],
      "metadata": {
        "colab": {
          "base_uri": "https://localhost:8080/"
        },
        "id": "ZeNOo9kkwnEP",
        "outputId": "396bffe9-1301-46dd-dbed-25cfccaf450d"
      },
      "execution_count": 10,
      "outputs": [
        {
          "output_type": "stream",
          "name": "stdout",
          "text": [
            "please folllowing the affirmation.. I am capable of doing anything I put my mind to.\n",
            "enter the  affirmation.. hamza\n",
            "That was not the affirmation.\n",
            "enter the  affirmation.. hamza\n",
            "That was not the affirmation.\n",
            "enter the  affirmation.. asad\n",
            "That was not the affirmation.\n",
            "enter the  affirmation.. I am capable of doing anything I put my mind to.\n",
            "that's Right\n"
          ]
        }
      ]
    },
    {
      "cell_type": "markdown",
      "source": [
        "# 05 liftoff"
      ],
      "metadata": {
        "id": "oS9CQ6ALJFa4"
      }
    },
    {
      "cell_type": "code",
      "source": [
        "for i in range(10,0,-1):\n",
        "  print(i)\n",
        "\n",
        "print(\"littoff\")"
      ],
      "metadata": {
        "colab": {
          "base_uri": "https://localhost:8080/"
        },
        "id": "PQKcFOlg0CFS",
        "outputId": "7eb4d441-0707-4241-8aae-d6af817c02d9"
      },
      "execution_count": 59,
      "outputs": [
        {
          "output_type": "stream",
          "name": "stdout",
          "text": [
            "10\n",
            "9\n",
            "8\n",
            "7\n",
            "6\n",
            "5\n",
            "4\n",
            "3\n",
            "2\n",
            "1\n",
            "littoff\n"
          ]
        }
      ]
    },
    {
      "cell_type": "markdown",
      "source": [
        "# 06 double_number"
      ],
      "metadata": {
        "id": "zkuIx328JJSh"
      }
    },
    {
      "cell_type": "code",
      "source": [
        "def double_number():\n",
        "\n",
        "  user_num = int(input(\"enter a number.. \"))\n",
        "  while user_num < 100:\n",
        "    user_num = user_num * 2\n",
        "    print(user_num)\n",
        "\n",
        "double_number()"
      ],
      "metadata": {
        "colab": {
          "base_uri": "https://localhost:8080/"
        },
        "id": "SeUeflrc5LMY",
        "outputId": "6b67ab76-63da-415a-ffb2-d7b35cf30e5c"
      },
      "execution_count": 6,
      "outputs": [
        {
          "output_type": "stream",
          "name": "stdout",
          "text": [
            "enter a number.. 33\n",
            "66\n",
            "132\n"
          ]
        }
      ]
    }
  ]
}