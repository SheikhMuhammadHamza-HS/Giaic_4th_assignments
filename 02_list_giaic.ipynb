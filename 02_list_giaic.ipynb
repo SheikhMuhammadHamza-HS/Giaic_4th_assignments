{
  "nbformat": 4,
  "nbformat_minor": 0,
  "metadata": {
    "colab": {
      "provenance": []
    },
    "kernelspec": {
      "name": "python3",
      "display_name": "Python 3"
    },
    "language_info": {
      "name": "python"
    }
  },
  "cells": [
    {
      "cell_type": "markdown",
      "source": [
        "01 Add many Numbers"
      ],
      "metadata": {
        "id": "FY1kZtPthflR"
      }
    },
    {
      "cell_type": "code",
      "execution_count": null,
      "metadata": {
        "colab": {
          "base_uri": "https://localhost:8080/"
        },
        "id": "4eADYnUyhbhA",
        "outputId": "5c2c5d21-3a5a-4622-bbae-b37e8aff531b"
      },
      "outputs": [
        {
          "output_type": "stream",
          "name": "stdout",
          "text": [
            "13\n"
          ]
        }
      ],
      "source": [
        "def add_numbers(numbers: list):\n",
        "  total = 0\n",
        "  for num in numbers:\n",
        "    total += num\n",
        "  return total\n",
        "\n",
        "print(add_numbers([2,5,4,2]))\n",
        "\n",
        "\n"
      ]
    },
    {
      "cell_type": "markdown",
      "source": [
        "# 02 Double list"
      ],
      "metadata": {
        "id": "b0Rdg2bSjdn2"
      }
    },
    {
      "cell_type": "code",
      "source": [
        "def multiple_by_two(numbers: list):\n",
        "  mul_of_two = []\n",
        "  for num in numbers:\n",
        "    mul_of_two.append(num * 2)\n",
        "  return mul_of_two\n",
        "\n",
        "print(multiple_by_two([1,3,5,7,9]))\n"
      ],
      "metadata": {
        "colab": {
          "base_uri": "https://localhost:8080/"
        },
        "id": "SFlwhlaGjfWo",
        "outputId": "6e31f4a2-ccfa-42c0-e2af-e7a76e4d590c"
      },
      "execution_count": null,
      "outputs": [
        {
          "output_type": "stream",
          "name": "stdout",
          "text": [
            "[2, 6, 10, 14, 18]\n"
          ]
        }
      ]
    },
    {
      "cell_type": "markdown",
      "source": [
        "# 03 Erase canvas"
      ],
      "metadata": {
        "id": "MnBpf-101SDa"
      }
    },
    {
      "cell_type": "code",
      "source": [
        "import tkinter as tk\n",
        "\n",
        "# Canvas setup\n",
        "cell_size = 40\n",
        "canvas_width = 400\n",
        "canvas_height = 400\n",
        "\n",
        "root = tk.Tk()\n",
        "root.title(\"Eraser on Canvas\")\n",
        "\n",
        "canvas = tk.Canvas(root, width=canvas_width, height=canvas_height)\n",
        "canvas.pack()\n",
        "\n",
        "# Store cell rectangles\n",
        "cells = []\n",
        "\n",
        "# Draw blue grid cells\n",
        "for y in range(0, canvas_height, cell_size):\n",
        "    for x in range(0, canvas_width, cell_size):\n",
        "        rect = canvas.create_rectangle(x, y, x + cell_size, y + cell_size,\n",
        "                                       fill='blue', outline='black')\n",
        "        cells.append(rect)\n",
        "\n",
        "# Eraser rectangle\n",
        "eraser_size = 60\n",
        "eraser = canvas.create_rectangle(-100, -100, -50, -50, outline='red', width=2)\n",
        "\n",
        "# Function to move eraser and erase cells\n",
        "def on_drag(event):\n",
        "    # Move eraser with mouse\n",
        "    x1 = event.x - eraser_size // 2\n",
        "    y1 = event.y - eraser_size // 2\n",
        "    x2 = x1 + eraser_size\n",
        "    y2 = y1 + eraser_size\n",
        "    canvas.coords(eraser, x1, y1, x2, y2)\n",
        "\n",
        "    # Check for collisions\n",
        "    for cell in cells:\n",
        "        cx1, cy1, cx2, cy2 = canvas.coords(cell)\n",
        "        # Collision detection\n",
        "        if not (x2 < cx1 or x1 > cx2 or y2 < cy1 or y1 > cy2):\n",
        "            canvas.itemconfig(cell, fill='white')\n",
        "\n",
        "# Mouse drag event\n",
        "canvas.bind(\"<B1-Motion>\", on_drag)\n",
        "\n",
        "# Run the app\n",
        "root.mainloop()\n"
      ],
      "metadata": {
        "colab": {
          "base_uri": "https://localhost:8080/",
          "height": 332
        },
        "id": "bnJBjTb3nz96",
        "outputId": "37bd082d-2648-4cbe-fb91-d2468b67e3e8",
        "collapsed": true
      },
      "execution_count": null,
      "outputs": [
        {
          "output_type": "error",
          "ename": "TclError",
          "evalue": "no display name and no $DISPLAY environment variable",
          "traceback": [
            "\u001b[0;31m---------------------------------------------------------------------------\u001b[0m",
            "\u001b[0;31mTclError\u001b[0m                                  Traceback (most recent call last)",
            "\u001b[0;32m<ipython-input-18-74e071d7f1e1>\u001b[0m in \u001b[0;36m<cell line: 0>\u001b[0;34m()\u001b[0m\n\u001b[1;32m      6\u001b[0m \u001b[0mcanvas_height\u001b[0m \u001b[0;34m=\u001b[0m \u001b[0;36m400\u001b[0m\u001b[0;34m\u001b[0m\u001b[0;34m\u001b[0m\u001b[0m\n\u001b[1;32m      7\u001b[0m \u001b[0;34m\u001b[0m\u001b[0m\n\u001b[0;32m----> 8\u001b[0;31m \u001b[0mroot\u001b[0m \u001b[0;34m=\u001b[0m \u001b[0mtk\u001b[0m\u001b[0;34m.\u001b[0m\u001b[0mTk\u001b[0m\u001b[0;34m(\u001b[0m\u001b[0;34m)\u001b[0m\u001b[0;34m\u001b[0m\u001b[0;34m\u001b[0m\u001b[0m\n\u001b[0m\u001b[1;32m      9\u001b[0m \u001b[0mroot\u001b[0m\u001b[0;34m.\u001b[0m\u001b[0mtitle\u001b[0m\u001b[0;34m(\u001b[0m\u001b[0;34m\"Eraser on Canvas\"\u001b[0m\u001b[0;34m)\u001b[0m\u001b[0;34m\u001b[0m\u001b[0;34m\u001b[0m\u001b[0m\n\u001b[1;32m     10\u001b[0m \u001b[0;34m\u001b[0m\u001b[0m\n",
            "\u001b[0;32m/usr/lib/python3.11/tkinter/__init__.py\u001b[0m in \u001b[0;36m__init__\u001b[0;34m(self, screenName, baseName, className, useTk, sync, use)\u001b[0m\n\u001b[1;32m   2324\u001b[0m                 \u001b[0mbaseName\u001b[0m \u001b[0;34m=\u001b[0m \u001b[0mbaseName\u001b[0m \u001b[0;34m+\u001b[0m \u001b[0mext\u001b[0m\u001b[0;34m\u001b[0m\u001b[0;34m\u001b[0m\u001b[0m\n\u001b[1;32m   2325\u001b[0m         \u001b[0minteractive\u001b[0m \u001b[0;34m=\u001b[0m \u001b[0;32mFalse\u001b[0m\u001b[0;34m\u001b[0m\u001b[0;34m\u001b[0m\u001b[0m\n\u001b[0;32m-> 2326\u001b[0;31m         \u001b[0mself\u001b[0m\u001b[0;34m.\u001b[0m\u001b[0mtk\u001b[0m \u001b[0;34m=\u001b[0m \u001b[0m_tkinter\u001b[0m\u001b[0;34m.\u001b[0m\u001b[0mcreate\u001b[0m\u001b[0;34m(\u001b[0m\u001b[0mscreenName\u001b[0m\u001b[0;34m,\u001b[0m \u001b[0mbaseName\u001b[0m\u001b[0;34m,\u001b[0m \u001b[0mclassName\u001b[0m\u001b[0;34m,\u001b[0m \u001b[0minteractive\u001b[0m\u001b[0;34m,\u001b[0m \u001b[0mwantobjects\u001b[0m\u001b[0;34m,\u001b[0m \u001b[0museTk\u001b[0m\u001b[0;34m,\u001b[0m \u001b[0msync\u001b[0m\u001b[0;34m,\u001b[0m \u001b[0muse\u001b[0m\u001b[0;34m)\u001b[0m\u001b[0;34m\u001b[0m\u001b[0;34m\u001b[0m\u001b[0m\n\u001b[0m\u001b[1;32m   2327\u001b[0m         \u001b[0;32mif\u001b[0m \u001b[0museTk\u001b[0m\u001b[0;34m:\u001b[0m\u001b[0;34m\u001b[0m\u001b[0;34m\u001b[0m\u001b[0m\n\u001b[1;32m   2328\u001b[0m             \u001b[0mself\u001b[0m\u001b[0;34m.\u001b[0m\u001b[0m_loadtk\u001b[0m\u001b[0;34m(\u001b[0m\u001b[0;34m)\u001b[0m\u001b[0;34m\u001b[0m\u001b[0;34m\u001b[0m\u001b[0m\n",
            "\u001b[0;31mTclError\u001b[0m: no display name and no $DISPLAY environment variable"
          ]
        }
      ]
    },
    {
      "cell_type": "markdown",
      "source": [
        "# 04_flowing_with_data_structures"
      ],
      "metadata": {
        "id": "oK16Dv8z1Yv8"
      }
    },
    {
      "cell_type": "code",
      "source": [
        "def add_three_copies(my_list, data):\n",
        "  for i in range(3):\n",
        "    my_list.append(data)\n",
        "\n",
        "\n",
        "def main():\n",
        "  message = input(\"enter a message to copy. \")\n",
        "  my_list = []\n",
        "  add_three_copies(my_list, message)\n",
        "  print(my_list)\n",
        "\n",
        "main()\n",
        "\n",
        "\n"
      ],
      "metadata": {
        "colab": {
          "base_uri": "https://localhost:8080/"
        },
        "id": "XmNdIMBA1NnM",
        "outputId": "e4c9635b-7515-45e7-88b4-7015a66af8f0"
      },
      "execution_count": null,
      "outputs": [
        {
          "output_type": "stream",
          "name": "stdout",
          "text": [
            "enter a message to copy. hamza\n",
            "['hamza', 'hamza', 'hamza']\n"
          ]
        }
      ]
    },
    {
      "cell_type": "markdown",
      "source": [
        "# 5 Get first element"
      ],
      "metadata": {
        "id": "1thQ68kcbJsQ"
      }
    },
    {
      "cell_type": "code",
      "source": [
        "def get_first_element(lst):\n",
        "  print(lst[0])\n",
        "\n",
        "\n",
        "my_list = []\n",
        "while True:\n",
        "  list_get = input(\"Enter item (Or done to finish.): \")\n",
        "  if list_get.lower().strip() == \"done\":\n",
        "    break\n",
        "  my_list.append(list_get)\n",
        "\n",
        "get_first_element(my_list)"
      ],
      "metadata": {
        "id": "Blhjx436rY7D"
      },
      "execution_count": null,
      "outputs": []
    },
    {
      "cell_type": "markdown",
      "source": [
        "# 6 Get last element"
      ],
      "metadata": {
        "id": "FrnbKv6wsDRq"
      }
    },
    {
      "cell_type": "code",
      "source": [
        "def get_last_element(lst):\n",
        "  print(lst[-1])\n",
        "\n",
        "\n",
        "my_list = []\n",
        "while True:\n",
        "  get_ele = input(\"Enter item (Or done to finish.): \")\n",
        "  if get_ele.lower().strip() == \"done\":\n",
        "    break\n",
        "  my_list.append(get_ele)\n",
        "\n",
        "get_last_element(my_list)\n"
      ],
      "metadata": {
        "colab": {
          "base_uri": "https://localhost:8080/"
        },
        "id": "humLqhI9sHqr",
        "outputId": "b63fb889-2791-4af4-8ac3-53aa49c665fd"
      },
      "execution_count": null,
      "outputs": [
        {
          "output_type": "stream",
          "name": "stdout",
          "text": [
            "Enter item (Or done to finish.): 10\n",
            "Enter item (Or done to finish.): 9\n",
            "Enter item (Or done to finish.): 8\n",
            "Enter item (Or done to finish.): 7\n",
            "Enter item (Or done to finish.): 6\n",
            "Enter item (Or done to finish.): 5\n",
            "Enter item (Or done to finish.): 4\n",
            "Enter item (Or done to finish.): 3\n",
            "Enter item (Or done to finish.): 2\n",
            "Enter item (Or done to finish.): 1\n",
            "Enter item (Or done to finish.): done\n",
            "1\n"
          ]
        }
      ]
    },
    {
      "cell_type": "markdown",
      "source": [
        "# 7"
      ],
      "metadata": {
        "id": "vh1L358htSXR"
      }
    },
    {
      "cell_type": "code",
      "source": [
        "def get_list():\n",
        "  lst = []\n",
        "  while True:\n",
        "    user_list = input(\"Enter a value of list.. \")\n",
        "    if user_list == \"\":\n",
        "      break\n",
        "    lst.append(user_list)\n",
        "  return lst\n",
        "\n",
        "my_list = get_list()\n",
        "print(my_list)"
      ],
      "metadata": {
        "colab": {
          "base_uri": "https://localhost:8080/"
        },
        "id": "MLfWntUXtRDr",
        "outputId": "1c52bed1-d0aa-4ac5-a976-c9684515101f"
      },
      "execution_count": null,
      "outputs": [
        {
          "output_type": "stream",
          "name": "stdout",
          "text": [
            "Enter a value of list.. 1\n",
            "Enter a value of list.. 2\n",
            "Enter a value of list.. 3\n",
            "Enter a value of list.. 4\n",
            "Enter a value of list.. 5\n",
            "Enter a value of list.. \n",
            "['1', '2', '3', '4', '5']\n"
          ]
        }
      ]
    },
    {
      "cell_type": "markdown",
      "source": [
        "# max length"
      ],
      "metadata": {
        "id": "PGaJ2jU6umND"
      }
    },
    {
      "cell_type": "code",
      "source": [
        "max_length = 3\n",
        "def length(lst):\n",
        "  while len(lst) > max_length:\n",
        "    remove_item = lst.pop()\n",
        "    print(remove_item)\n",
        "\n",
        "\n",
        "my_list = length([1,2,3,4,5,6,7,8,9])\n",
        "\n",
        "\n"
      ],
      "metadata": {
        "colab": {
          "base_uri": "https://localhost:8080/"
        },
        "id": "JaedI40WupIO",
        "outputId": "ec590f1f-ab0c-4e04-d037-43ebc07fee16"
      },
      "execution_count": null,
      "outputs": [
        {
          "output_type": "stream",
          "name": "stdout",
          "text": [
            "9\n",
            "8\n",
            "7\n",
            "6\n",
            "5\n",
            "4\n"
          ]
        }
      ]
    }
  ]
}