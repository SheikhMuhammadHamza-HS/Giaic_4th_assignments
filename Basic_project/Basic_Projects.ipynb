{
  "nbformat": 4,
  "nbformat_minor": 0,
  "metadata": {
    "colab": {
      "provenance": []
    },
    "kernelspec": {
      "name": "python3",
      "display_name": "Python 3"
    },
    "language_info": {
      "name": "python"
    }
  },
  "cells": [
    {
      "cell_type": "markdown",
      "source": [
        "# Joke_bot"
      ],
      "metadata": {
        "id": "v18w_Jya2Mew"
      }
    },
    {
      "cell_type": "code",
      "source": [
        "user_input: str = input(\"What do you want? \")\n",
        "joke = \"Panaversity GPT - Sophia is heading out to the grocery store. A programmer tells her: get a liter of milk,\"\n",
        "if user_input.lower() == \"joke\":\n",
        "  print(joke)\n",
        "else:\n",
        "  print(\"sorry i only tell jokes\")"
      ],
      "metadata": {
        "colab": {
          "base_uri": "https://localhost:8080/"
        },
        "id": "yHRE7Wsj76hi",
        "outputId": "8ad8cf26-ebc5-43a7-9868-afbabe53536a"
      },
      "execution_count": null,
      "outputs": [
        {
          "output_type": "stream",
          "name": "stdout",
          "text": [
            "What do you want? Joke\n",
            "Panaversity GPT - Sophia is heading out to the grocery store. A programmer tells her: get a liter of milk,\n"
          ]
        }
      ]
    },
    {
      "cell_type": "markdown",
      "source": [
        "# Double_number"
      ],
      "metadata": {
        "id": "lINJP8Wn7jnF"
      }
    },
    {
      "cell_type": "code",
      "source": [
        "user_num : int = int(input(\"Enter a number... \"))\n",
        "\n",
        "while user_num < 100:\n",
        "  user_num *= 2\n",
        "  print(user_num, end=\" \")"
      ],
      "metadata": {
        "colab": {
          "base_uri": "https://localhost:8080/"
        },
        "id": "QVqCG9FJB4yf",
        "outputId": "8ba1fe65-b202-4eed-d307-7a7f89a466be"
      },
      "execution_count": null,
      "outputs": [
        {
          "output_type": "stream",
          "name": "stdout",
          "text": [
            "Enter a number... 2\n",
            "4 8 16 32 64 128 "
          ]
        }
      ]
    },
    {
      "cell_type": "markdown",
      "source": [
        "# littoff"
      ],
      "metadata": {
        "id": "6oGG2aST8fLg"
      }
    },
    {
      "cell_type": "code",
      "source": [
        "for i in range(10,0,-1):\n",
        "  print(i, end=\" \")\n",
        "  if i == 1:\n",
        "    print(\"litoff\")"
      ],
      "metadata": {
        "colab": {
          "base_uri": "https://localhost:8080/"
        },
        "id": "ntAFfNhy8elz",
        "outputId": "fc1de871-102d-4556-fabd-83700da22b5d"
      },
      "execution_count": null,
      "outputs": [
        {
          "output_type": "stream",
          "name": "stdout",
          "text": [
            "10 9 8 7 6 5 4 3 2 1 litoff\n"
          ]
        }
      ]
    },
    {
      "cell_type": "markdown",
      "source": [
        "# Guess_my_number"
      ],
      "metadata": {
        "id": "pULgpfoN-IUL"
      }
    },
    {
      "cell_type": "markdown",
      "source": [],
      "metadata": {
        "id": "yHabtBFNGJRQ"
      }
    },
    {
      "cell_type": "markdown",
      "source": [],
      "metadata": {
        "id": "DxVGWrW8GIRP"
      }
    },
    {
      "cell_type": "markdown",
      "source": [],
      "metadata": {
        "id": "WPkUzy7rGIK0"
      }
    },
    {
      "cell_type": "code",
      "source": [
        "# user input\n",
        "# user attempt\n",
        "# attempt-left\n",
        "# to low / to high\n",
        "# until you find a correct number\n",
        "\n",
        "import random\n",
        "random_generate_number = random.randint(0, 99)\n",
        "user_attempt = 0\n",
        "attempt_left = 5\n",
        "\n",
        "while attempt_left > 0:\n",
        "  user_input = int(input(\"Enter a guess: \"))\n",
        "  if user_input > random_generate_number:\n",
        "\n",
        "    print(\"you guessed is very high\")\n",
        "  elif user_input < random_generate_number:\n",
        "      print(\"your guess is very low\")\n",
        "  else:\n",
        "    print(f\"Congratulations!! you guessed a Correcr number ${random_generate_number}\")\n",
        "\n",
        "    break\n",
        "  attempt_left -= 1\n",
        "  user_attempt += 5\n",
        "  print(f\"attempt left: {attempt_left}\")\n",
        "\n",
        "\n",
        "  if attempt_left == 0:\n",
        "      print(\"Better luck for next time\")\n",
        "\n",
        "\n",
        "\n",
        "\n",
        "\n",
        "\n"
      ],
      "metadata": {
        "colab": {
          "base_uri": "https://localhost:8080/",
          "height": 228
        },
        "id": "HcDcjnNOVjDJ",
        "outputId": "755f702b-ac4b-4391-d568-5940eaf69676"
      },
      "execution_count": null,
      "outputs": [
        {
          "name": "stdout",
          "output_type": "stream",
          "text": [
            "Enter a guess: high\n"
          ]
        },
        {
          "output_type": "error",
          "ename": "ValueError",
          "evalue": "invalid literal for int() with base 10: 'high'",
          "traceback": [
            "\u001b[0;31m---------------------------------------------------------------------------\u001b[0m",
            "\u001b[0;31mValueError\u001b[0m                                Traceback (most recent call last)",
            "\u001b[0;32m<ipython-input-2-9cd6d0f8a5ec>\u001b[0m in \u001b[0;36m<cell line: 0>\u001b[0;34m()\u001b[0m\n\u001b[1;32m     11\u001b[0m \u001b[0;34m\u001b[0m\u001b[0m\n\u001b[1;32m     12\u001b[0m \u001b[0;32mwhile\u001b[0m \u001b[0mattempt_left\u001b[0m \u001b[0;34m>\u001b[0m \u001b[0;36m0\u001b[0m\u001b[0;34m:\u001b[0m\u001b[0;34m\u001b[0m\u001b[0;34m\u001b[0m\u001b[0m\n\u001b[0;32m---> 13\u001b[0;31m   \u001b[0muser_input\u001b[0m \u001b[0;34m=\u001b[0m \u001b[0mint\u001b[0m\u001b[0;34m(\u001b[0m\u001b[0minput\u001b[0m\u001b[0;34m(\u001b[0m\u001b[0;34m\"Enter a guess: \"\u001b[0m\u001b[0;34m)\u001b[0m\u001b[0;34m)\u001b[0m\u001b[0;34m\u001b[0m\u001b[0;34m\u001b[0m\u001b[0m\n\u001b[0m\u001b[1;32m     14\u001b[0m   \u001b[0;32mif\u001b[0m \u001b[0muser_input\u001b[0m \u001b[0;34m>\u001b[0m \u001b[0mrandom_generate_number\u001b[0m\u001b[0;34m:\u001b[0m\u001b[0;34m\u001b[0m\u001b[0;34m\u001b[0m\u001b[0m\n\u001b[1;32m     15\u001b[0m \u001b[0;34m\u001b[0m\u001b[0m\n",
            "\u001b[0;31mValueError\u001b[0m: invalid literal for int() with base 10: 'high'"
          ]
        }
      ]
    },
    {
      "cell_type": "markdown",
      "source": [
        "# Random_numbers"
      ],
      "metadata": {
        "id": "tEhvk49cmMCT"
      }
    },
    {
      "cell_type": "code",
      "source": [
        "import random\n",
        "\n",
        "for i in range(10):\n",
        "  print(random.randint(1,100), end=\" \")"
      ],
      "metadata": {
        "colab": {
          "base_uri": "https://localhost:8080/"
        },
        "id": "uje5pgzRaDDC",
        "outputId": "9203f35a-789e-4e0b-b195-6658d28333b5"
      },
      "execution_count": null,
      "outputs": [
        {
          "output_type": "stream",
          "name": "stdout",
          "text": [
            "99 7 89 29 10 43 54 35 62 3 "
          ]
        }
      ]
    }
  ]
}