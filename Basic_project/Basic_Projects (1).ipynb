{
  "nbformat": 4,
  "nbformat_minor": 0,
  "metadata": {
    "colab": {
      "provenance": []
    },
    "kernelspec": {
      "name": "python3",
      "display_name": "Python 3"
    },
    "language_info": {
      "name": "python"
    }
  },
  "cells": [
    {
      "cell_type": "markdown",
      "source": [
        "# Joke_bot"
      ],
      "metadata": {
        "id": "v18w_Jya2Mew"
      }
    },
    {
      "cell_type": "code",
      "source": [
        "user_input: str = input(\"What do you want? \")\n",
        "joke = \"Panaversity GPT - Sophia is heading out to the grocery store. A programmer tells her: get a liter of milk,\"\n",
        "if user_input.lower() == \"joke\":\n",
        "  print(joke)\n",
        "else:\n",
        "  print(\"sorry i only tell jokes\")"
      ],
      "metadata": {
        "colab": {
          "base_uri": "https://localhost:8080/"
        },
        "id": "yHRE7Wsj76hi",
        "outputId": "8ad8cf26-ebc5-43a7-9868-afbabe53536a"
      },
      "execution_count": null,
      "outputs": [
        {
          "output_type": "stream",
          "name": "stdout",
          "text": [
            "What do you want? Joke\n",
            "Panaversity GPT - Sophia is heading out to the grocery store. A programmer tells her: get a liter of milk,\n"
          ]
        }
      ]
    },
    {
      "cell_type": "markdown",
      "source": [
        "# Double_number"
      ],
      "metadata": {
        "id": "lINJP8Wn7jnF"
      }
    },
    {
      "cell_type": "code",
      "source": [
        "user_num : int = int(input(\"Enter a number... \"))\n",
        "\n",
        "while user_num < 100:\n",
        "  user_num *= 2\n",
        "  print(user_num, end=\" \")"
      ],
      "metadata": {
        "colab": {
          "base_uri": "https://localhost:8080/"
        },
        "id": "QVqCG9FJB4yf",
        "outputId": "8ba1fe65-b202-4eed-d307-7a7f89a466be"
      },
      "execution_count": null,
      "outputs": [
        {
          "output_type": "stream",
          "name": "stdout",
          "text": [
            "Enter a number... 2\n",
            "4 8 16 32 64 128 "
          ]
        }
      ]
    },
    {
      "cell_type": "markdown",
      "source": [
        "# littoff"
      ],
      "metadata": {
        "id": "6oGG2aST8fLg"
      }
    },
    {
      "cell_type": "code",
      "source": [
        "for i in range(10,0,-1):\n",
        "  print(i, end=\" \")\n",
        "  if i == 1:\n",
        "    print(\"litoff\")"
      ],
      "metadata": {
        "colab": {
          "base_uri": "https://localhost:8080/"
        },
        "id": "ntAFfNhy8elz",
        "outputId": "fc1de871-102d-4556-fabd-83700da22b5d"
      },
      "execution_count": null,
      "outputs": [
        {
          "output_type": "stream",
          "name": "stdout",
          "text": [
            "10 9 8 7 6 5 4 3 2 1 litoff\n"
          ]
        }
      ]
    },
    {
      "cell_type": "markdown",
      "source": [
        "# Guess_my_number"
      ],
      "metadata": {
        "id": "pULgpfoN-IUL"
      }
    },
    {
      "cell_type": "markdown",
      "source": [],
      "metadata": {
        "id": "yHabtBFNGJRQ"
      }
    },
    {
      "cell_type": "markdown",
      "source": [],
      "metadata": {
        "id": "DxVGWrW8GIRP"
      }
    },
    {
      "cell_type": "markdown",
      "source": [],
      "metadata": {
        "id": "WPkUzy7rGIK0"
      }
    },
    {
      "cell_type": "code",
      "source": [
        "import random\n",
        "\n",
        "# Generate random number\n",
        "random_generate_number = random.randint(0,99)\n",
        "\n",
        "# Initialize variables\n",
        "user_attempt = 0\n",
        "attempt_left = 5\n",
        "\n",
        "# Game loop\n",
        "while attempt_left > 0:\n",
        "    try:\n",
        "        user_input = int(input(\"Enter a guess (0–99): \"))\n",
        "    except ValueError:\n",
        "        print(\"❌ Please enter a valid number.\")\n",
        "        continue\n",
        "\n",
        "    if user_input > random_generate_number:\n",
        "        print(\"Your guess is too high.\")\n",
        "    elif user_input < random_generate_number:\n",
        "        print(\"Your guess is too low.\")\n",
        "    else:\n",
        "        print(f\"🎉 Congratulations!! You guessed the correct number: {random_generate_number}\")\n",
        "        break\n",
        "\n",
        "    attempt_left -= 1\n",
        "    user_attempt += 1\n",
        "\n",
        "    print(f\"Attempts left: {attempt_left}\")\n",
        "\n",
        "# Out of attempts\n",
        "if attempt_left == 0 and user_input != random_generate_number:\n",
        "    print(\"❌ Better luck next time!\")\n",
        "    print(f\"The correct number was: {random_generate_number}\")\n"
      ],
      "metadata": {
        "colab": {
          "base_uri": "https://localhost:8080/"
        },
        "id": "HcDcjnNOVjDJ",
        "outputId": "09aa8afa-69fc-49c2-ccfe-928326eccb34"
      },
      "execution_count": 8,
      "outputs": [
        {
          "output_type": "stream",
          "name": "stdout",
          "text": [
            "Enter a guess (0–99): 3\n",
            "Your guess is too high.\n",
            "Attempts left: 4\n",
            "Enter a guess (0–99): 3\n",
            "Your guess is too high.\n",
            "Attempts left: 3\n",
            "Enter a guess (0–99): 4\n",
            "Your guess is too high.\n",
            "Attempts left: 2\n",
            "Enter a guess (0–99): 2\n",
            "🎉 Congratulations!! You guessed the correct number: 2\n"
          ]
        }
      ]
    },
    {
      "cell_type": "markdown",
      "source": [
        "# Random_numbers"
      ],
      "metadata": {
        "id": "tEhvk49cmMCT"
      }
    },
    {
      "cell_type": "code",
      "source": [
        "import random\n",
        "\n",
        "for i in range(10):\n",
        "  print(random.randint(1,100), end=\" \")"
      ],
      "metadata": {
        "colab": {
          "base_uri": "https://localhost:8080/"
        },
        "id": "uje5pgzRaDDC",
        "outputId": "9203f35a-789e-4e0b-b195-6658d28333b5"
      },
      "execution_count": null,
      "outputs": [
        {
          "output_type": "stream",
          "name": "stdout",
          "text": [
            "99 7 89 29 10 43 54 35 62 3 "
          ]
        }
      ]
    }
  ]
}